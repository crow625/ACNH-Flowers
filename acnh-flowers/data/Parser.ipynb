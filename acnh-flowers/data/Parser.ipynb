{
 "cells": [
  {
   "cell_type": "markdown",
   "id": "8c04db74",
   "metadata": {},
   "source": [
    "# Parser\n",
    "ACNH Flowers by crow625\n",
    "\n",
    "In Animal Crossing: New Horizons, each flower has three (or four, in the case of roses) genes which can take values of 0, 1, or 2. The combination of these genes determines the color of the flower. When two flowers are selected to breed, each of their genes are passed down like real genes, which can be modeled by a Punnett Square. A 0 represents a recessive homozygous allele, a 1 represents a heterozygous allele, and a 2 represents a dominant homozygous allele. \n",
    "\n",
    "This file scrapes the animal crossing fandom wiki to retrieve the phenotypes of each flower based on their genes. For example, a rose with genes R1Y0W2B2 (red 1, yellow 0, white 2, brightness 2) is purple. The scraped data is stored in a csv file for use in the ACNH Flowers web app.\n",
    "\n",
    "Thank you to the contributors on animalcrossing.fandom.com."
   ]
  },
  {
   "cell_type": "markdown",
   "id": "22c70532",
   "metadata": {},
   "source": [
    "This cell imports the required packages and saves the request from the website."
   ]
  },
  {
   "cell_type": "code",
   "execution_count": 1,
   "id": "bfbc23f3",
   "metadata": {},
   "outputs": [],
   "source": [
    "import pandas as pd\n",
    "import requests\n",
    "import bs4\n",
    "\n",
    "url = \"https://animalcrossing.fandom.com/wiki/Flowers/New_Horizons_mechanics\"\n",
    "response = requests.get(url)"
   ]
  },
  {
   "cell_type": "markdown",
   "id": "50e729cb",
   "metadata": {},
   "source": [
    "This cell locates the two desired tables, the rose table and the 3-gene flower table, and saves them as variables."
   ]
  },
  {
   "cell_type": "code",
   "execution_count": 2,
   "id": "c4f379f9",
   "metadata": {},
   "outputs": [],
   "source": [
    "soup = bs4.BeautifulSoup(response.text, 'html.parser')\n",
    "tables = soup.find_all(class_=\"roundy mw-collapsible\")\n",
    "rose_table = tables[0]\n",
    "flower_table = tables[1]"
   ]
  },
  {
   "cell_type": "markdown",
   "id": "62db1a2d",
   "metadata": {},
   "source": [
    "The following two cells trim down the tables to be only the desired rows of the table (trimming headers and footers)."
   ]
  },
  {
   "cell_type": "code",
   "execution_count": 3,
   "id": "ed6d741c",
   "metadata": {},
   "outputs": [],
   "source": [
    "rose_table = rose_table.find_all(\"tr\")\n",
    "flower_table = flower_table.find_all(\"tr\")"
   ]
  },
  {
   "cell_type": "code",
   "execution_count": 4,
   "id": "c3e25156",
   "metadata": {},
   "outputs": [],
   "source": [
    "rose_table = rose_table[2:-1]\n",
    "flower_table = flower_table[3:-1]"
   ]
  },
  {
   "cell_type": "markdown",
   "id": "497e29a7",
   "metadata": {},
   "source": [
    "This cell defines a function to get the color of a flower from a string. The strings passed in are alt text for images of the flowers, since the tables on fandom use images rather than text to represent the flower colors."
   ]
  },
  {
   "cell_type": "code",
   "execution_count": 5,
   "id": "c0ed8155",
   "metadata": {},
   "outputs": [],
   "source": [
    "def get_color(img_name):\n",
    "    for color in [\"white\", \"red\", \"yellow\", \"pink\", \"orange\", \"blue\", \"purple\", \"black\", \"green\", \"gold\"]:\n",
    "        if img_name.find(color) >= 0:\n",
    "            return color\n",
    "    return \"unknown\""
   ]
  },
  {
   "cell_type": "markdown",
   "id": "d0f28ec5",
   "metadata": {},
   "source": [
    "This cell defines a function to generate a flower's color string given its genes. For example, a flower with 0 red, 1 yellow, and 1 white will have color string R0Y1W1."
   ]
  },
  {
   "cell_type": "code",
   "execution_count": 25,
   "id": "b37b34af",
   "metadata": {},
   "outputs": [],
   "source": [
    "def color_string(red, yellow, white, b=None):\n",
    "    if b != None:\n",
    "        return \"R\" + str(red) + \"Y\" + str(yellow) + \"W\" + str(white) + \"B\" + str(b)\n",
    "    return \"R\" + str(red) + \"Y\" + str(yellow) + \"W\" + str(white)"
   ]
  },
  {
   "cell_type": "markdown",
   "id": "dce3e083",
   "metadata": {},
   "source": [
    "This cell initializes a place to store the data, then iterates over both tables simultaneously. In each iteration, it locates and stores the RYW values and saves the flower's color in its respective list. Roses are given three columns, one for each B value. \n",
    "\n",
    "Additionally, if the flower is a seed, it stores its genes in the seed table corresponding to its color and type.\n",
    "An exception is made for windflowers: since there is no yellow windflower, instead of a seed yellow, there is a seed orange. The genes of this seed orange are stored in the seeds table as if it were a seed yellow for the sake of restricting all the data to three colors."
   ]
  },
  {
   "cell_type": "code",
   "execution_count": 35,
   "id": "d9b6d153",
   "metadata": {
    "scrolled": true
   },
   "outputs": [],
   "source": [
    "data = {\n",
    "    \"red\": [],\n",
    "    \"yellow\": [],\n",
    "    \"white\": [],\n",
    "    \"B0\": [],\n",
    "    \"B1\": [],\n",
    "    \"B2\": [],\n",
    "    \"tulips\": [],\n",
    "    \"pansies\": [],\n",
    "    \"cosmos\": [],\n",
    "    \"lilies\": [],\n",
    "    \"hyacinths\": [],\n",
    "    \"windflowers\": [],\n",
    "    \"mums\": []\n",
    "}\n",
    "\n",
    "seeds = {\n",
    "    \"red\": {},\n",
    "    \"yellow\": {},\n",
    "    \"white\": {}\n",
    "}\n",
    "    \n",
    "for flower_row in zip(rose_table, flower_table):\n",
    "    roses = flower_row[0].find_all(\"td\")\n",
    "    flowers = flower_row[1].find_all(\"td\")\n",
    "    \n",
    "    row = {}\n",
    "\n",
    "    row[\"red\"] = roses[0].text.strip()\n",
    "    row[\"yellow\"] = roses[1].text.strip()\n",
    "    row[\"white\"] = roses[2].text.strip()\n",
    "    row[\"B0\"] = roses[3]\n",
    "    row[\"B1\"] = roses[4]\n",
    "    row[\"B2\"] = roses[5]\n",
    "    row[\"tulips\"] = flowers[3]\n",
    "    row[\"pansies\"] = flowers[4]\n",
    "    row[\"cosmos\"] = flowers[5]\n",
    "    row[\"lilies\"] = flowers[6]\n",
    "    row[\"hyacinths\"] = flowers[7]\n",
    "    row[\"windflowers\"] = flowers[8]\n",
    "    row[\"mums\"] = flowers[9]\n",
    "    \n",
    "    for key in row.keys():\n",
    "        # don't do any additional processing on the genes\n",
    "        if (key == \"red\" or key == \"yellow\" or key == \"white\"):\n",
    "            data[key].append(row[key])\n",
    "        else:\n",
    "            # fetch the flower's color and add it to the table\n",
    "            color = get_color(row[key].find(\"img\")[\"alt\"])\n",
    "            data[key].append(color)\n",
    "            # if this is a seed flower, its background color will be #AED6F1\n",
    "            if row[key][\"style\"].find(\"#AED6F1\") >= 0:\n",
    "                # if a rose, get the color string with a B value\n",
    "                if key == \"B0\" or key == \"B1\" or key == \"B2\":\n",
    "                    c_string = color_string(data[\"red\"][-1], data[\"yellow\"][-1], data[\"white\"][-1], key[-1])\n",
    "                    seeds[color][\"roses\"] = c_string\n",
    "                # if not a rose, get the 3-gene color string\n",
    "                else:\n",
    "                    c_string = color_string(data[\"red\"][-1], data[\"yellow\"][-1], data[\"white\"][-1])\n",
    "                    # There is no seed yellow windflower (instead, there is a seed orange)\n",
    "                    # So the seed orange is stored as yellow\n",
    "                    if key == \"windflowers\" and color == \"orange\":\n",
    "                        seeds[\"yellow\"][key] = c_string\n",
    "                    else:\n",
    "                        seeds[color][key] = c_string\n",
    "                "
   ]
  },
  {
   "cell_type": "markdown",
   "id": "34e00ea5",
   "metadata": {},
   "source": [
    "This cell converts the flower color data from the previous cell to a pandas dataframe and writes it to 'flowers.csv'"
   ]
  },
  {
   "cell_type": "code",
   "execution_count": 70,
   "id": "6e61c3f5",
   "metadata": {},
   "outputs": [],
   "source": [
    "df = pd.DataFrame(data)\n",
    "df.to_csv('flowers.csv', index=False)"
   ]
  },
  {
   "cell_type": "markdown",
   "id": "5c983a68",
   "metadata": {},
   "source": [
    "This cell converts the flower seed data from the previous cell to a pandas dataframe and writes it to 'seeds.csv'"
   ]
  },
  {
   "cell_type": "code",
   "execution_count": 38,
   "id": "3ede4d5e",
   "metadata": {},
   "outputs": [],
   "source": [
    "df = pd.DataFrame(seeds)\n",
    "df.to_csv('seeds.csv', index=True)"
   ]
  }
 ],
 "metadata": {
  "kernelspec": {
   "display_name": "Python 3 (ipykernel)",
   "language": "python",
   "name": "python3"
  },
  "language_info": {
   "codemirror_mode": {
    "name": "ipython",
    "version": 3
   },
   "file_extension": ".py",
   "mimetype": "text/x-python",
   "name": "python",
   "nbconvert_exporter": "python",
   "pygments_lexer": "ipython3",
   "version": "3.10.11"
  }
 },
 "nbformat": 4,
 "nbformat_minor": 5
}
